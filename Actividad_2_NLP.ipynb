{
  "cells": [
    {
      "cell_type": "markdown",
      "metadata": {},
      "source": [
        "## Integrantes del equipo\n",
        "\n",
        "- Myroslava Sánchez Andrade A01730712\n",
        "- José Antonio Bobadilla García A01734433\n",
        "- Karen Rugerio Armenta A01733228\n",
        "- Alejandro Castro Reus A01731065\n"
      ]
    },
    {
      "cell_type": "markdown",
      "metadata": {},
      "source": [
        "### Cambios realizados para obtener un 90% de accuracy:\n",
        "\n",
        "- Reducir el batch size a 17\n",
        "- Utilizar el modelo GRU\n",
        "- Utilizar un Dropout de .95\n",
        "- Utilizar un EMBEDDING_SIZE de 200\n",
        "- 4 capas profundas de 60 neuronas cada una\n",
        "- 11 épocas\n",
        "- Learning rate de 0.0002"
      ]
    },
    {
      "cell_type": "code",
      "execution_count": 1,
      "metadata": {
        "colab": {
          "base_uri": "https://localhost:8080/"
        },
        "id": "P2cPjgJDHrnz",
        "outputId": "3c71bb7d-850b-4662-860e-841e965760fd"
      },
      "outputs": [
        {
          "name": "stdout",
          "output_type": "stream",
          "text": [
            "Looking in indexes: https://pypi.org/simple, https://us-python.pkg.dev/colab-wheels/public/simple/\n",
            "Requirement already satisfied: torch==1.12.1 in /usr/local/lib/python3.7/dist-packages (1.12.1+cu113)\n",
            "Requirement already satisfied: torchtext==0.13.1 in /usr/local/lib/python3.7/dist-packages (0.13.1)\n",
            "Collecting torchdata==0.4.1\n",
            "  Downloading torchdata-0.4.1-cp37-cp37m-manylinux_2_17_x86_64.manylinux2014_x86_64.whl (4.4 MB)\n",
            "\u001b[K     |████████████████████████████████| 4.4 MB 21.6 MB/s \n",
            "\u001b[?25hRequirement already satisfied: typing-extensions in /usr/local/lib/python3.7/dist-packages (from torch==1.12.1) (4.1.1)\n",
            "Requirement already satisfied: numpy in /usr/local/lib/python3.7/dist-packages (from torchtext==0.13.1) (1.21.6)\n",
            "Requirement already satisfied: requests in /usr/local/lib/python3.7/dist-packages (from torchtext==0.13.1) (2.23.0)\n",
            "Requirement already satisfied: tqdm in /usr/local/lib/python3.7/dist-packages (from torchtext==0.13.1) (4.64.1)\n",
            "Collecting urllib3>=1.25\n",
            "  Downloading urllib3-1.26.12-py2.py3-none-any.whl (140 kB)\n",
            "\u001b[K     |████████████████████████████████| 140 kB 72.4 MB/s \n",
            "\u001b[?25hCollecting portalocker>=2.0.0\n",
            "  Downloading portalocker-2.6.0-py2.py3-none-any.whl (15 kB)\n",
            "Collecting urllib3>=1.25\n",
            "  Downloading urllib3-1.25.11-py2.py3-none-any.whl (127 kB)\n",
            "\u001b[K     |████████████████████████████████| 127 kB 52.9 MB/s \n",
            "\u001b[?25hRequirement already satisfied: idna<3,>=2.5 in /usr/local/lib/python3.7/dist-packages (from requests->torchtext==0.13.1) (2.10)\n",
            "Requirement already satisfied: certifi>=2017.4.17 in /usr/local/lib/python3.7/dist-packages (from requests->torchtext==0.13.1) (2022.9.24)\n",
            "Requirement already satisfied: chardet<4,>=3.0.2 in /usr/local/lib/python3.7/dist-packages (from requests->torchtext==0.13.1) (3.0.4)\n",
            "Installing collected packages: urllib3, portalocker, torchdata\n",
            "  Attempting uninstall: urllib3\n",
            "    Found existing installation: urllib3 1.24.3\n",
            "    Uninstalling urllib3-1.24.3:\n",
            "      Successfully uninstalled urllib3-1.24.3\n",
            "Successfully installed portalocker-2.6.0 torchdata-0.4.1 urllib3-1.25.11\n"
          ]
        }
      ],
      "source": [
        "#!pip install torch==1.12.1\n",
        "#!pip install torch==1.8\n",
        "#!pip install torch==1.13.0\n",
        "\n",
        "!pip install torch==1.12.1  torchtext==0.13.1 torchdata==0.4.1"
      ]
    },
    {
      "cell_type": "code",
      "execution_count": 3,
      "metadata": {
        "colab": {
          "base_uri": "https://localhost:8080/"
        },
        "id": "eUhq-TmhLQYh",
        "outputId": "2a158112-366c-4357-dc25-814dd48a35e2"
      },
      "outputs": [
        {
          "name": "stdout",
          "output_type": "stream",
          "text": [
            "1.12.1+cu113\n"
          ]
        }
      ],
      "source": [
        "import torch\n",
        "print(torch. __version__)"
      ]
    },
    {
      "cell_type": "code",
      "execution_count": 4,
      "metadata": {
        "id": "vWYFj_Q6_aNr"
      },
      "outputs": [],
      "source": [
        "import numpy as np\n",
        "#PyTorch libraries\n",
        "import torch\n",
        "from torchtext.datasets import AG_NEWS\n",
        "from torch import nn\n",
        "from torch.nn import functional as F\n",
        "# Dataset and dataloader\n",
        "from torch.utils.data import DataLoader\n",
        "from torch.utils.data.dataset import random_split\n",
        "# Libraries to prepare the data\n",
        "from torchtext.data.utils import get_tokenizer\n",
        "from torchtext.vocab import build_vocab_from_iterator\n",
        "from torchtext.data.functional import to_map_style_dataset"
      ]
    },
    {
      "cell_type": "code",
      "execution_count": 5,
      "metadata": {
        "colab": {
          "base_uri": "https://localhost:8080/"
        },
        "id": "ClE_Lmjz_wWa",
        "outputId": "edd28e2b-792a-459f-fa7b-43b7911ebef5"
      },
      "outputs": [
        {
          "data": {
            "text/plain": [
              "True"
            ]
          },
          "execution_count": 5,
          "metadata": {},
          "output_type": "execute_result"
        }
      ],
      "source": [
        "torch.cuda.is_available()"
      ]
    },
    {
      "cell_type": "code",
      "execution_count": 6,
      "metadata": {
        "colab": {
          "base_uri": "https://localhost:8080/"
        },
        "id": "mlxnqTto_i6i",
        "outputId": "10880787-06f7-462f-f664-2062717b4329"
      },
      "outputs": [
        {
          "name": "stdout",
          "output_type": "stream",
          "text": [
            "cuda\n"
          ]
        }
      ],
      "source": [
        "# Use Gpu\n",
        "device = torch.device('cuda' if torch.cuda.is_available() else 'cpu')\n",
        "print(device)"
      ]
    },
    {
      "cell_type": "code",
      "execution_count": 7,
      "metadata": {
        "id": "CcI60vMFbEWa"
      },
      "outputs": [],
      "source": [
        "from torchtext.datasets import AG_NEWS"
      ]
    },
    {
      "cell_type": "code",
      "execution_count": 8,
      "metadata": {
        "id": "uo7_mHXZAEiy"
      },
      "outputs": [],
      "source": [
        "train_dataset,  test_dataset = AG_NEWS()"
      ]
    },
    {
      "cell_type": "code",
      "execution_count": 9,
      "metadata": {
        "id": "Ww7qMmTIADh-"
      },
      "outputs": [],
      "source": [
        "train_dataset, test_dataset = to_map_style_dataset(train_dataset), to_map_style_dataset(test_dataset)"
      ]
    },
    {
      "cell_type": "code",
      "execution_count": 10,
      "metadata": {
        "colab": {
          "base_uri": "https://localhost:8080/"
        },
        "id": "1tlgrNdm_iTX",
        "outputId": "6dd26a66-ab43-4905-b513-13720b93b4a4"
      },
      "outputs": [
        {
          "data": {
            "text/plain": [
              "(120000, 7600)"
            ]
          },
          "execution_count": 10,
          "metadata": {},
          "output_type": "execute_result"
        }
      ],
      "source": [
        "len(train_dataset), len(test_dataset)"
      ]
    },
    {
      "cell_type": "code",
      "execution_count": 11,
      "metadata": {
        "colab": {
          "base_uri": "https://localhost:8080/"
        },
        "id": "rV6SdztXC-mO",
        "outputId": "6b785846-5077-48e8-fedb-c531e898a0b2"
      },
      "outputs": [
        {
          "data": {
            "text/plain": [
              "[(3,\n",
              "  \"Wall St. Bears Claw Back Into the Black (Reuters) Reuters - Short-sellers, Wall Street's dwindling\\\\band of ultra-cynics, are seeing green again.\"),\n",
              " (3,\n",
              "  'Carlyle Looks Toward Commercial Aerospace (Reuters) Reuters - Private investment firm Carlyle Group,\\\\which has a reputation for making well-timed and occasionally\\\\controversial plays in the defense industry, has quietly placed\\\\its bets on another part of the market.'),\n",
              " (3,\n",
              "  \"Oil and Economy Cloud Stocks' Outlook (Reuters) Reuters - Soaring crude prices plus worries\\\\about the economy and the outlook for earnings are expected to\\\\hang over the stock market next week during the depth of the\\\\summer doldrums.\"),\n",
              " (3,\n",
              "  'Iraq Halts Oil Exports from Main Southern Pipeline (Reuters) Reuters - Authorities have halted oil export\\\\flows from the main pipeline in southern Iraq after\\\\intelligence showed a rebel militia could strike\\\\infrastructure, an oil official said on Saturday.'),\n",
              " (3,\n",
              "  'Oil prices soar to all-time record, posing new menace to US economy (AFP) AFP - Tearaway world oil prices, toppling records and straining wallets, present a new economic menace barely three months before the US presidential elections.'),\n",
              " (3,\n",
              "  'Stocks End Up, But Near Year Lows (Reuters) Reuters - Stocks ended slightly higher on Friday\\\\but stayed near lows for the year as oil prices surged past  #36;46\\\\a barrel, offsetting a positive outlook from computer maker\\\\Dell Inc. (DELL.O)'),\n",
              " (3,\n",
              "  \"Money Funds Fell in Latest Week (AP) AP - Assets of the nation's retail money market mutual funds fell by  #36;1.17 billion in the latest week to  #36;849.98 trillion, the Investment Company Institute said Thursday.\"),\n",
              " (3,\n",
              "  'Fed minutes show dissent over inflation (USATODAY.com) USATODAY.com - Retail sales bounced back a bit in July, and new claims for jobless benefits fell last week, the government said Thursday, indicating the economy is improving from a midsummer slump.'),\n",
              " (3,\n",
              "  'Safety Net (Forbes.com) Forbes.com - After earning a PH.D. in Sociology, Danny Bazil Riley started to work as the general manager at a commercial real estate firm at an annual base salary of  #36;70,000. Soon after, a financial planner stopped by his desk to drop off brochures about insurance benefits available through his employer. But, at 32, \"buying insurance was the furthest thing from my mind,\" says Riley.'),\n",
              " (3,\n",
              "  \"Wall St. Bears Claw Back Into the Black  NEW YORK (Reuters) - Short-sellers, Wall Street's dwindling  band of ultra-cynics, are seeing green again.\")]"
            ]
          },
          "execution_count": 11,
          "metadata": {},
          "output_type": "execute_result"
        }
      ],
      "source": [
        "train_dataset[:10]"
      ]
    },
    {
      "cell_type": "code",
      "execution_count": 12,
      "metadata": {
        "id": "GF_GOzndDpeO"
      },
      "outputs": [],
      "source": [
        "tokeniser = get_tokenizer('basic_english')\n",
        "def yield_tokens(data):\n",
        "  for _, text in data:\n",
        "    yield tokeniser(text)"
      ]
    },
    {
      "cell_type": "code",
      "execution_count": 13,
      "metadata": {
        "id": "pFNhwLrcDo9y"
      },
      "outputs": [],
      "source": [
        "vocab = build_vocab_from_iterator(yield_tokens(train_dataset), specials=['<unk>'])\n",
        "vocab.set_default_index(vocab['<unk>'])"
      ]
    },
    {
      "cell_type": "code",
      "execution_count": 14,
      "metadata": {
        "colab": {
          "base_uri": "https://localhost:8080/"
        },
        "id": "DzqCFvXP_gBF",
        "outputId": "b93dde03-4444-45c3-a825-0d279067e04b"
      },
      "outputs": [
        {
          "data": {
            "text/plain": [
              "95811"
            ]
          },
          "execution_count": 14,
          "metadata": {},
          "output_type": "execute_result"
        }
      ],
      "source": [
        "len(vocab)"
      ]
    },
    {
      "cell_type": "code",
      "execution_count": 15,
      "metadata": {
        "colab": {
          "base_uri": "https://localhost:8080/"
        },
        "id": "ueaVr_hWEqdU",
        "outputId": "40855693-38b0-4393-e714-03a528b2ba54"
      },
      "outputs": [
        {
          "name": "stdout",
          "output_type": "stream",
          "text": [
            "0 <unk>\n",
            "1 .\n",
            "2 the\n",
            "3 ,\n",
            "4 to\n",
            "5 a\n",
            "6 of\n",
            "7 in\n",
            "8 and\n",
            "9 s\n",
            "10 on\n",
            "11 for\n",
            "12 #39\n",
            "13 (\n",
            "14 )\n",
            "15 -\n",
            "16 '\n",
            "17 that\n",
            "18 with\n",
            "19 as\n"
          ]
        }
      ],
      "source": [
        "for i in range(20):\n",
        "  print(i, vocab.lookup_token(i))"
      ]
    },
    {
      "cell_type": "code",
      "execution_count": 16,
      "metadata": {
        "colab": {
          "base_uri": "https://localhost:8080/"
        },
        "id": "BwCqHuliE_aY",
        "outputId": "ee9113da-9d2c-4266-8bf7-943e78d74745"
      },
      "outputs": [
        {
          "name": "stdout",
          "output_type": "stream",
          "text": [
            "['welcome', 'to', 'te3007b'] [3314, 4, 0]\n"
          ]
        }
      ],
      "source": [
        "tokens = tokeniser('Welcome to TE3007B')\n",
        "print(tokens, vocab(tokens))"
      ]
    },
    {
      "cell_type": "code",
      "execution_count": 17,
      "metadata": {
        "id": "1r4FCk7lFnrb"
      },
      "outputs": [],
      "source": [
        "NUM_TRAIN = int(len(train_dataset) * 0.9)\n",
        "NUM_VAL =len(train_dataset) - NUM_TRAIN"
      ]
    },
    {
      "cell_type": "code",
      "execution_count": 18,
      "metadata": {
        "colab": {
          "base_uri": "https://localhost:8080/"
        },
        "id": "yeb8c6VGEqHb",
        "outputId": "63c785da-9b3e-4273-a75b-9dc73c6f273e"
      },
      "outputs": [
        {
          "data": {
            "text/plain": [
              "12000"
            ]
          },
          "execution_count": 18,
          "metadata": {},
          "output_type": "execute_result"
        }
      ],
      "source": [
        "NUM_VAL"
      ]
    },
    {
      "cell_type": "code",
      "execution_count": 19,
      "metadata": {
        "id": "HLBKs-GAGJMN"
      },
      "outputs": [],
      "source": [
        "train_dataset, val_dataset = random_split(train_dataset, [NUM_TRAIN, NUM_VAL])"
      ]
    },
    {
      "cell_type": "code",
      "execution_count": 20,
      "metadata": {
        "colab": {
          "base_uri": "https://localhost:8080/"
        },
        "id": "JseOELELGI-E",
        "outputId": "bfc38d88-4cce-4732-efe3-33b9a698b85e"
      },
      "outputs": [
        {
          "data": {
            "text/plain": [
              "(108000, 12000, 7600)"
            ]
          },
          "execution_count": 20,
          "metadata": {},
          "output_type": "execute_result"
        }
      ],
      "source": [
        "len(train_dataset), len(val_dataset), len(test_dataset)"
      ]
    },
    {
      "cell_type": "code",
      "execution_count": 21,
      "metadata": {
        "id": "RrRcSoXQIx3Q"
      },
      "outputs": [],
      "source": [
        "max_tokens = 50"
      ]
    },
    {
      "cell_type": "code",
      "execution_count": 22,
      "metadata": {
        "id": "Jz7QjzBVGywI"
      },
      "outputs": [],
      "source": [
        "def collate_batch(batch):\n",
        "  y, x = list(zip(*batch))\n",
        "  #create list with tokens\n",
        "  x = [vocab(tokeniser(text)) for text in x]\n",
        "  # padding or clipping\n",
        "  x = [t + ([0]*(max_tokens - len(t))) if len(t) < max_tokens else t[:max_tokens] for t in x]\n",
        "  return torch.tensor(x, dtype=torch.long), torch.tensor(y, dtype=torch.long)-1"
      ]
    },
    {
      "cell_type": "code",
      "execution_count": 48,
      "metadata": {
        "id": "nOXI_QGcJ0jA"
      },
      "outputs": [],
      "source": [
        "labels = ['World', 'Sports', 'Business', 'Sci/Tech']\n",
        "# Reduce batch size to 17 \n",
        "\n",
        "BATCH_SIZE = 17\n"
      ]
    },
    {
      "cell_type": "code",
      "execution_count": 49,
      "metadata": {
        "id": "QP3zmu-XKIAj"
      },
      "outputs": [],
      "source": [
        "# DataLoaders\n",
        "train_loader = DataLoader(train_dataset, \n",
        "                          batch_size=BATCH_SIZE,\n",
        "                          collate_fn=collate_batch,\n",
        "                          shuffle = True)\n",
        "val_loader = DataLoader(val_dataset, \n",
        "                          batch_size=BATCH_SIZE,\n",
        "                          collate_fn=collate_batch,\n",
        "                          shuffle = True)\n",
        "test_loader = DataLoader(test_dataset, \n",
        "                          batch_size=BATCH_SIZE,\n",
        "                          collate_fn=collate_batch,\n",
        "                          shuffle = True)"
      ]
    },
    {
      "cell_type": "code",
      "execution_count": 50,
      "metadata": {
        "colab": {
          "base_uri": "https://localhost:8080/"
        },
        "id": "7lCS_eIYKHwl",
        "outputId": "48b4c08c-5a17-4309-83bb-244ae162d65f"
      },
      "outputs": [
        {
          "name": "stdout",
          "output_type": "stream",
          "text": [
            "0 torch.Size([17, 50]) torch.Size([17])\n",
            "1 torch.Size([17, 50]) torch.Size([17])\n",
            "2 torch.Size([17, 50]) torch.Size([17])\n",
            "3 torch.Size([17, 50]) torch.Size([17])\n",
            "4 torch.Size([17, 50]) torch.Size([17])\n",
            "5 torch.Size([17, 50]) torch.Size([17])\n",
            "6 torch.Size([17, 50]) torch.Size([17])\n",
            "7 torch.Size([17, 50]) torch.Size([17])\n",
            "8 torch.Size([17, 50]) torch.Size([17])\n",
            "9 torch.Size([17, 50]) torch.Size([17])\n",
            "10 torch.Size([17, 50]) torch.Size([17])\n",
            "11 torch.Size([17, 50]) torch.Size([17])\n",
            "12 torch.Size([17, 50]) torch.Size([17])\n",
            "13 torch.Size([17, 50]) torch.Size([17])\n",
            "14 torch.Size([17, 50]) torch.Size([17])\n",
            "15 torch.Size([17, 50]) torch.Size([17])\n",
            "16 torch.Size([17, 50]) torch.Size([17])\n",
            "17 torch.Size([17, 50]) torch.Size([17])\n",
            "18 torch.Size([17, 50]) torch.Size([17])\n",
            "19 torch.Size([17, 50]) torch.Size([17])\n",
            "20 torch.Size([17, 50]) torch.Size([17])\n",
            "21 torch.Size([17, 50]) torch.Size([17])\n",
            "22 torch.Size([17, 50]) torch.Size([17])\n",
            "23 torch.Size([17, 50]) torch.Size([17])\n",
            "24 torch.Size([17, 50]) torch.Size([17])\n",
            "25 torch.Size([17, 50]) torch.Size([17])\n",
            "26 torch.Size([17, 50]) torch.Size([17])\n",
            "27 torch.Size([17, 50]) torch.Size([17])\n",
            "28 torch.Size([17, 50]) torch.Size([17])\n",
            "29 torch.Size([17, 50]) torch.Size([17])\n",
            "30 torch.Size([17, 50]) torch.Size([17])\n",
            "31 torch.Size([17, 50]) torch.Size([17])\n",
            "32 torch.Size([17, 50]) torch.Size([17])\n",
            "33 torch.Size([17, 50]) torch.Size([17])\n",
            "34 torch.Size([17, 50]) torch.Size([17])\n",
            "35 torch.Size([17, 50]) torch.Size([17])\n",
            "36 torch.Size([17, 50]) torch.Size([17])\n",
            "37 torch.Size([17, 50]) torch.Size([17])\n",
            "38 torch.Size([17, 50]) torch.Size([17])\n",
            "39 torch.Size([17, 50]) torch.Size([17])\n",
            "40 torch.Size([17, 50]) torch.Size([17])\n",
            "41 torch.Size([17, 50]) torch.Size([17])\n",
            "42 torch.Size([17, 50]) torch.Size([17])\n",
            "43 torch.Size([17, 50]) torch.Size([17])\n",
            "44 torch.Size([17, 50]) torch.Size([17])\n",
            "45 torch.Size([17, 50]) torch.Size([17])\n",
            "46 torch.Size([17, 50]) torch.Size([17])\n",
            "47 torch.Size([17, 50]) torch.Size([17])\n",
            "48 torch.Size([17, 50]) torch.Size([17])\n",
            "49 torch.Size([17, 50]) torch.Size([17])\n",
            "50 torch.Size([17, 50]) torch.Size([17])\n",
            "51 torch.Size([17, 50]) torch.Size([17])\n",
            "52 torch.Size([17, 50]) torch.Size([17])\n",
            "53 torch.Size([17, 50]) torch.Size([17])\n",
            "54 torch.Size([17, 50]) torch.Size([17])\n",
            "55 torch.Size([17, 50]) torch.Size([17])\n",
            "56 torch.Size([17, 50]) torch.Size([17])\n",
            "57 torch.Size([17, 50]) torch.Size([17])\n",
            "58 torch.Size([17, 50]) torch.Size([17])\n",
            "59 torch.Size([17, 50]) torch.Size([17])\n",
            "60 torch.Size([17, 50]) torch.Size([17])\n",
            "61 torch.Size([17, 50]) torch.Size([17])\n",
            "62 torch.Size([17, 50]) torch.Size([17])\n",
            "63 torch.Size([17, 50]) torch.Size([17])\n",
            "64 torch.Size([17, 50]) torch.Size([17])\n",
            "65 torch.Size([17, 50]) torch.Size([17])\n",
            "66 torch.Size([17, 50]) torch.Size([17])\n",
            "67 torch.Size([17, 50]) torch.Size([17])\n",
            "68 torch.Size([17, 50]) torch.Size([17])\n",
            "69 torch.Size([17, 50]) torch.Size([17])\n",
            "70 torch.Size([17, 50]) torch.Size([17])\n",
            "71 torch.Size([17, 50]) torch.Size([17])\n",
            "72 torch.Size([17, 50]) torch.Size([17])\n",
            "73 torch.Size([17, 50]) torch.Size([17])\n",
            "74 torch.Size([17, 50]) torch.Size([17])\n",
            "75 torch.Size([17, 50]) torch.Size([17])\n",
            "76 torch.Size([17, 50]) torch.Size([17])\n",
            "77 torch.Size([17, 50]) torch.Size([17])\n",
            "78 torch.Size([17, 50]) torch.Size([17])\n",
            "79 torch.Size([17, 50]) torch.Size([17])\n",
            "80 torch.Size([17, 50]) torch.Size([17])\n",
            "81 torch.Size([17, 50]) torch.Size([17])\n",
            "82 torch.Size([17, 50]) torch.Size([17])\n",
            "83 torch.Size([17, 50]) torch.Size([17])\n",
            "84 torch.Size([17, 50]) torch.Size([17])\n",
            "85 torch.Size([17, 50]) torch.Size([17])\n",
            "86 torch.Size([17, 50]) torch.Size([17])\n",
            "87 torch.Size([17, 50]) torch.Size([17])\n",
            "88 torch.Size([17, 50]) torch.Size([17])\n",
            "89 torch.Size([17, 50]) torch.Size([17])\n",
            "90 torch.Size([17, 50]) torch.Size([17])\n",
            "91 torch.Size([17, 50]) torch.Size([17])\n",
            "92 torch.Size([17, 50]) torch.Size([17])\n",
            "93 torch.Size([17, 50]) torch.Size([17])\n",
            "94 torch.Size([17, 50]) torch.Size([17])\n",
            "95 torch.Size([17, 50]) torch.Size([17])\n",
            "96 torch.Size([17, 50]) torch.Size([17])\n",
            "97 torch.Size([17, 50]) torch.Size([17])\n",
            "98 torch.Size([17, 50]) torch.Size([17])\n",
            "99 torch.Size([17, 50]) torch.Size([17])\n",
            "100 torch.Size([17, 50]) torch.Size([17])\n",
            "101 torch.Size([17, 50]) torch.Size([17])\n",
            "102 torch.Size([17, 50]) torch.Size([17])\n",
            "103 torch.Size([17, 50]) torch.Size([17])\n",
            "104 torch.Size([17, 50]) torch.Size([17])\n",
            "105 torch.Size([17, 50]) torch.Size([17])\n",
            "106 torch.Size([17, 50]) torch.Size([17])\n",
            "107 torch.Size([17, 50]) torch.Size([17])\n",
            "108 torch.Size([17, 50]) torch.Size([17])\n",
            "109 torch.Size([17, 50]) torch.Size([17])\n",
            "110 torch.Size([17, 50]) torch.Size([17])\n",
            "111 torch.Size([17, 50]) torch.Size([17])\n",
            "112 torch.Size([17, 50]) torch.Size([17])\n",
            "113 torch.Size([17, 50]) torch.Size([17])\n",
            "114 torch.Size([17, 50]) torch.Size([17])\n",
            "115 torch.Size([17, 50]) torch.Size([17])\n",
            "116 torch.Size([17, 50]) torch.Size([17])\n",
            "117 torch.Size([17, 50]) torch.Size([17])\n",
            "118 torch.Size([17, 50]) torch.Size([17])\n",
            "119 torch.Size([17, 50]) torch.Size([17])\n",
            "120 torch.Size([17, 50]) torch.Size([17])\n",
            "121 torch.Size([17, 50]) torch.Size([17])\n",
            "122 torch.Size([17, 50]) torch.Size([17])\n",
            "123 torch.Size([17, 50]) torch.Size([17])\n",
            "124 torch.Size([17, 50]) torch.Size([17])\n",
            "125 torch.Size([17, 50]) torch.Size([17])\n",
            "126 torch.Size([17, 50]) torch.Size([17])\n",
            "127 torch.Size([17, 50]) torch.Size([17])\n",
            "128 torch.Size([17, 50]) torch.Size([17])\n",
            "129 torch.Size([17, 50]) torch.Size([17])\n",
            "130 torch.Size([17, 50]) torch.Size([17])\n",
            "131 torch.Size([17, 50]) torch.Size([17])\n",
            "132 torch.Size([17, 50]) torch.Size([17])\n",
            "133 torch.Size([17, 50]) torch.Size([17])\n",
            "134 torch.Size([17, 50]) torch.Size([17])\n",
            "135 torch.Size([17, 50]) torch.Size([17])\n",
            "136 torch.Size([17, 50]) torch.Size([17])\n",
            "137 torch.Size([17, 50]) torch.Size([17])\n",
            "138 torch.Size([17, 50]) torch.Size([17])\n",
            "139 torch.Size([17, 50]) torch.Size([17])\n",
            "140 torch.Size([17, 50]) torch.Size([17])\n",
            "141 torch.Size([17, 50]) torch.Size([17])\n",
            "142 torch.Size([17, 50]) torch.Size([17])\n",
            "143 torch.Size([17, 50]) torch.Size([17])\n",
            "144 torch.Size([17, 50]) torch.Size([17])\n",
            "145 torch.Size([17, 50]) torch.Size([17])\n",
            "146 torch.Size([17, 50]) torch.Size([17])\n",
            "147 torch.Size([17, 50]) torch.Size([17])\n",
            "148 torch.Size([17, 50]) torch.Size([17])\n",
            "149 torch.Size([17, 50]) torch.Size([17])\n",
            "150 torch.Size([17, 50]) torch.Size([17])\n",
            "151 torch.Size([17, 50]) torch.Size([17])\n",
            "152 torch.Size([17, 50]) torch.Size([17])\n",
            "153 torch.Size([17, 50]) torch.Size([17])\n",
            "154 torch.Size([17, 50]) torch.Size([17])\n",
            "155 torch.Size([17, 50]) torch.Size([17])\n",
            "156 torch.Size([17, 50]) torch.Size([17])\n",
            "157 torch.Size([17, 50]) torch.Size([17])\n",
            "158 torch.Size([17, 50]) torch.Size([17])\n",
            "159 torch.Size([17, 50]) torch.Size([17])\n",
            "160 torch.Size([17, 50]) torch.Size([17])\n",
            "161 torch.Size([17, 50]) torch.Size([17])\n",
            "162 torch.Size([17, 50]) torch.Size([17])\n",
            "163 torch.Size([17, 50]) torch.Size([17])\n",
            "164 torch.Size([17, 50]) torch.Size([17])\n",
            "165 torch.Size([17, 50]) torch.Size([17])\n",
            "166 torch.Size([17, 50]) torch.Size([17])\n",
            "167 torch.Size([17, 50]) torch.Size([17])\n",
            "168 torch.Size([17, 50]) torch.Size([17])\n",
            "169 torch.Size([17, 50]) torch.Size([17])\n",
            "170 torch.Size([17, 50]) torch.Size([17])\n",
            "171 torch.Size([17, 50]) torch.Size([17])\n",
            "172 torch.Size([17, 50]) torch.Size([17])\n",
            "173 torch.Size([17, 50]) torch.Size([17])\n",
            "174 torch.Size([17, 50]) torch.Size([17])\n",
            "175 torch.Size([17, 50]) torch.Size([17])\n",
            "176 torch.Size([17, 50]) torch.Size([17])\n",
            "177 torch.Size([17, 50]) torch.Size([17])\n",
            "178 torch.Size([17, 50]) torch.Size([17])\n",
            "179 torch.Size([17, 50]) torch.Size([17])\n",
            "180 torch.Size([17, 50]) torch.Size([17])\n",
            "181 torch.Size([17, 50]) torch.Size([17])\n",
            "182 torch.Size([17, 50]) torch.Size([17])\n",
            "183 torch.Size([17, 50]) torch.Size([17])\n",
            "184 torch.Size([17, 50]) torch.Size([17])\n",
            "185 torch.Size([17, 50]) torch.Size([17])\n",
            "186 torch.Size([17, 50]) torch.Size([17])\n",
            "187 torch.Size([17, 50]) torch.Size([17])\n",
            "188 torch.Size([17, 50]) torch.Size([17])\n",
            "189 torch.Size([17, 50]) torch.Size([17])\n",
            "190 torch.Size([17, 50]) torch.Size([17])\n",
            "191 torch.Size([17, 50]) torch.Size([17])\n",
            "192 torch.Size([17, 50]) torch.Size([17])\n",
            "193 torch.Size([17, 50]) torch.Size([17])\n",
            "194 torch.Size([17, 50]) torch.Size([17])\n",
            "195 torch.Size([17, 50]) torch.Size([17])\n",
            "196 torch.Size([17, 50]) torch.Size([17])\n",
            "197 torch.Size([17, 50]) torch.Size([17])\n",
            "198 torch.Size([17, 50]) torch.Size([17])\n",
            "199 torch.Size([17, 50]) torch.Size([17])\n",
            "200 torch.Size([17, 50]) torch.Size([17])\n",
            "201 torch.Size([17, 50]) torch.Size([17])\n",
            "202 torch.Size([17, 50]) torch.Size([17])\n",
            "203 torch.Size([17, 50]) torch.Size([17])\n",
            "204 torch.Size([17, 50]) torch.Size([17])\n",
            "205 torch.Size([17, 50]) torch.Size([17])\n",
            "206 torch.Size([17, 50]) torch.Size([17])\n",
            "207 torch.Size([17, 50]) torch.Size([17])\n",
            "208 torch.Size([17, 50]) torch.Size([17])\n",
            "209 torch.Size([17, 50]) torch.Size([17])\n",
            "210 torch.Size([17, 50]) torch.Size([17])\n",
            "211 torch.Size([17, 50]) torch.Size([17])\n",
            "212 torch.Size([17, 50]) torch.Size([17])\n",
            "213 torch.Size([17, 50]) torch.Size([17])\n",
            "214 torch.Size([17, 50]) torch.Size([17])\n",
            "215 torch.Size([17, 50]) torch.Size([17])\n",
            "216 torch.Size([17, 50]) torch.Size([17])\n",
            "217 torch.Size([17, 50]) torch.Size([17])\n",
            "218 torch.Size([17, 50]) torch.Size([17])\n",
            "219 torch.Size([17, 50]) torch.Size([17])\n",
            "220 torch.Size([17, 50]) torch.Size([17])\n",
            "221 torch.Size([17, 50]) torch.Size([17])\n",
            "222 torch.Size([17, 50]) torch.Size([17])\n",
            "223 torch.Size([17, 50]) torch.Size([17])\n",
            "224 torch.Size([17, 50]) torch.Size([17])\n",
            "225 torch.Size([17, 50]) torch.Size([17])\n",
            "226 torch.Size([17, 50]) torch.Size([17])\n",
            "227 torch.Size([17, 50]) torch.Size([17])\n",
            "228 torch.Size([17, 50]) torch.Size([17])\n",
            "229 torch.Size([17, 50]) torch.Size([17])\n",
            "230 torch.Size([17, 50]) torch.Size([17])\n",
            "231 torch.Size([17, 50]) torch.Size([17])\n",
            "232 torch.Size([17, 50]) torch.Size([17])\n",
            "233 torch.Size([17, 50]) torch.Size([17])\n",
            "234 torch.Size([17, 50]) torch.Size([17])\n",
            "235 torch.Size([17, 50]) torch.Size([17])\n",
            "236 torch.Size([17, 50]) torch.Size([17])\n",
            "237 torch.Size([17, 50]) torch.Size([17])\n",
            "238 torch.Size([17, 50]) torch.Size([17])\n",
            "239 torch.Size([17, 50]) torch.Size([17])\n",
            "240 torch.Size([17, 50]) torch.Size([17])\n",
            "241 torch.Size([17, 50]) torch.Size([17])\n",
            "242 torch.Size([17, 50]) torch.Size([17])\n",
            "243 torch.Size([17, 50]) torch.Size([17])\n",
            "244 torch.Size([17, 50]) torch.Size([17])\n",
            "245 torch.Size([17, 50]) torch.Size([17])\n",
            "246 torch.Size([17, 50]) torch.Size([17])\n",
            "247 torch.Size([17, 50]) torch.Size([17])\n",
            "248 torch.Size([17, 50]) torch.Size([17])\n",
            "249 torch.Size([17, 50]) torch.Size([17])\n",
            "250 torch.Size([17, 50]) torch.Size([17])\n",
            "251 torch.Size([17, 50]) torch.Size([17])\n",
            "252 torch.Size([17, 50]) torch.Size([17])\n",
            "253 torch.Size([17, 50]) torch.Size([17])\n",
            "254 torch.Size([17, 50]) torch.Size([17])\n",
            "255 torch.Size([17, 50]) torch.Size([17])\n",
            "256 torch.Size([17, 50]) torch.Size([17])\n",
            "257 torch.Size([17, 50]) torch.Size([17])\n",
            "258 torch.Size([17, 50]) torch.Size([17])\n",
            "259 torch.Size([17, 50]) torch.Size([17])\n",
            "260 torch.Size([17, 50]) torch.Size([17])\n",
            "261 torch.Size([17, 50]) torch.Size([17])\n",
            "262 torch.Size([17, 50]) torch.Size([17])\n",
            "263 torch.Size([17, 50]) torch.Size([17])\n",
            "264 torch.Size([17, 50]) torch.Size([17])\n",
            "265 torch.Size([17, 50]) torch.Size([17])\n",
            "266 torch.Size([17, 50]) torch.Size([17])\n",
            "267 torch.Size([17, 50]) torch.Size([17])\n",
            "268 torch.Size([17, 50]) torch.Size([17])\n",
            "269 torch.Size([17, 50]) torch.Size([17])\n",
            "270 torch.Size([17, 50]) torch.Size([17])\n",
            "271 torch.Size([17, 50]) torch.Size([17])\n",
            "272 torch.Size([17, 50]) torch.Size([17])\n",
            "273 torch.Size([17, 50]) torch.Size([17])\n",
            "274 torch.Size([17, 50]) torch.Size([17])\n",
            "275 torch.Size([17, 50]) torch.Size([17])\n",
            "276 torch.Size([17, 50]) torch.Size([17])\n",
            "277 torch.Size([17, 50]) torch.Size([17])\n",
            "278 torch.Size([17, 50]) torch.Size([17])\n",
            "279 torch.Size([17, 50]) torch.Size([17])\n",
            "280 torch.Size([17, 50]) torch.Size([17])\n",
            "281 torch.Size([17, 50]) torch.Size([17])\n",
            "282 torch.Size([17, 50]) torch.Size([17])\n",
            "283 torch.Size([17, 50]) torch.Size([17])\n",
            "284 torch.Size([17, 50]) torch.Size([17])\n",
            "285 torch.Size([17, 50]) torch.Size([17])\n",
            "286 torch.Size([17, 50]) torch.Size([17])\n",
            "287 torch.Size([17, 50]) torch.Size([17])\n",
            "288 torch.Size([17, 50]) torch.Size([17])\n",
            "289 torch.Size([17, 50]) torch.Size([17])\n",
            "290 torch.Size([17, 50]) torch.Size([17])\n",
            "291 torch.Size([17, 50]) torch.Size([17])\n",
            "292 torch.Size([17, 50]) torch.Size([17])\n",
            "293 torch.Size([17, 50]) torch.Size([17])\n",
            "294 torch.Size([17, 50]) torch.Size([17])\n",
            "295 torch.Size([17, 50]) torch.Size([17])\n",
            "296 torch.Size([17, 50]) torch.Size([17])\n",
            "297 torch.Size([17, 50]) torch.Size([17])\n",
            "298 torch.Size([17, 50]) torch.Size([17])\n",
            "299 torch.Size([17, 50]) torch.Size([17])\n",
            "300 torch.Size([17, 50]) torch.Size([17])\n",
            "301 torch.Size([17, 50]) torch.Size([17])\n",
            "302 torch.Size([17, 50]) torch.Size([17])\n",
            "303 torch.Size([17, 50]) torch.Size([17])\n",
            "304 torch.Size([17, 50]) torch.Size([17])\n",
            "305 torch.Size([17, 50]) torch.Size([17])\n",
            "306 torch.Size([17, 50]) torch.Size([17])\n",
            "307 torch.Size([17, 50]) torch.Size([17])\n",
            "308 torch.Size([17, 50]) torch.Size([17])\n",
            "309 torch.Size([17, 50]) torch.Size([17])\n",
            "310 torch.Size([17, 50]) torch.Size([17])\n",
            "311 torch.Size([17, 50]) torch.Size([17])\n",
            "312 torch.Size([17, 50]) torch.Size([17])\n",
            "313 torch.Size([17, 50]) torch.Size([17])\n",
            "314 torch.Size([17, 50]) torch.Size([17])\n",
            "315 torch.Size([17, 50]) torch.Size([17])\n",
            "316 torch.Size([17, 50]) torch.Size([17])\n",
            "317 torch.Size([17, 50]) torch.Size([17])\n",
            "318 torch.Size([17, 50]) torch.Size([17])\n",
            "319 torch.Size([17, 50]) torch.Size([17])\n",
            "320 torch.Size([17, 50]) torch.Size([17])\n",
            "321 torch.Size([17, 50]) torch.Size([17])\n",
            "322 torch.Size([17, 50]) torch.Size([17])\n",
            "323 torch.Size([17, 50]) torch.Size([17])\n",
            "324 torch.Size([17, 50]) torch.Size([17])\n",
            "325 torch.Size([17, 50]) torch.Size([17])\n",
            "326 torch.Size([17, 50]) torch.Size([17])\n",
            "327 torch.Size([17, 50]) torch.Size([17])\n",
            "328 torch.Size([17, 50]) torch.Size([17])\n",
            "329 torch.Size([17, 50]) torch.Size([17])\n",
            "330 torch.Size([17, 50]) torch.Size([17])\n",
            "331 torch.Size([17, 50]) torch.Size([17])\n",
            "332 torch.Size([17, 50]) torch.Size([17])\n",
            "333 torch.Size([17, 50]) torch.Size([17])\n",
            "334 torch.Size([17, 50]) torch.Size([17])\n",
            "335 torch.Size([17, 50]) torch.Size([17])\n",
            "336 torch.Size([17, 50]) torch.Size([17])\n",
            "337 torch.Size([17, 50]) torch.Size([17])\n",
            "338 torch.Size([17, 50]) torch.Size([17])\n",
            "339 torch.Size([17, 50]) torch.Size([17])\n",
            "340 torch.Size([17, 50]) torch.Size([17])\n",
            "341 torch.Size([17, 50]) torch.Size([17])\n",
            "342 torch.Size([17, 50]) torch.Size([17])\n",
            "343 torch.Size([17, 50]) torch.Size([17])\n",
            "344 torch.Size([17, 50]) torch.Size([17])\n",
            "345 torch.Size([17, 50]) torch.Size([17])\n",
            "346 torch.Size([17, 50]) torch.Size([17])\n",
            "347 torch.Size([17, 50]) torch.Size([17])\n",
            "348 torch.Size([17, 50]) torch.Size([17])\n",
            "349 torch.Size([17, 50]) torch.Size([17])\n",
            "350 torch.Size([17, 50]) torch.Size([17])\n",
            "351 torch.Size([17, 50]) torch.Size([17])\n",
            "352 torch.Size([17, 50]) torch.Size([17])\n",
            "353 torch.Size([17, 50]) torch.Size([17])\n",
            "354 torch.Size([17, 50]) torch.Size([17])\n",
            "355 torch.Size([17, 50]) torch.Size([17])\n",
            "356 torch.Size([17, 50]) torch.Size([17])\n",
            "357 torch.Size([17, 50]) torch.Size([17])\n",
            "358 torch.Size([17, 50]) torch.Size([17])\n",
            "359 torch.Size([17, 50]) torch.Size([17])\n",
            "360 torch.Size([17, 50]) torch.Size([17])\n",
            "361 torch.Size([17, 50]) torch.Size([17])\n",
            "362 torch.Size([17, 50]) torch.Size([17])\n",
            "363 torch.Size([17, 50]) torch.Size([17])\n",
            "364 torch.Size([17, 50]) torch.Size([17])\n",
            "365 torch.Size([17, 50]) torch.Size([17])\n",
            "366 torch.Size([17, 50]) torch.Size([17])\n",
            "367 torch.Size([17, 50]) torch.Size([17])\n",
            "368 torch.Size([17, 50]) torch.Size([17])\n",
            "369 torch.Size([17, 50]) torch.Size([17])\n",
            "370 torch.Size([17, 50]) torch.Size([17])\n",
            "371 torch.Size([17, 50]) torch.Size([17])\n",
            "372 torch.Size([17, 50]) torch.Size([17])\n",
            "373 torch.Size([17, 50]) torch.Size([17])\n",
            "374 torch.Size([17, 50]) torch.Size([17])\n",
            "375 torch.Size([17, 50]) torch.Size([17])\n",
            "376 torch.Size([17, 50]) torch.Size([17])\n",
            "377 torch.Size([17, 50]) torch.Size([17])\n",
            "378 torch.Size([17, 50]) torch.Size([17])\n",
            "379 torch.Size([17, 50]) torch.Size([17])\n",
            "380 torch.Size([17, 50]) torch.Size([17])\n",
            "381 torch.Size([17, 50]) torch.Size([17])\n",
            "382 torch.Size([17, 50]) torch.Size([17])\n",
            "383 torch.Size([17, 50]) torch.Size([17])\n",
            "384 torch.Size([17, 50]) torch.Size([17])\n",
            "385 torch.Size([17, 50]) torch.Size([17])\n",
            "386 torch.Size([17, 50]) torch.Size([17])\n",
            "387 torch.Size([17, 50]) torch.Size([17])\n",
            "388 torch.Size([17, 50]) torch.Size([17])\n",
            "389 torch.Size([17, 50]) torch.Size([17])\n",
            "390 torch.Size([17, 50]) torch.Size([17])\n",
            "391 torch.Size([17, 50]) torch.Size([17])\n",
            "392 torch.Size([17, 50]) torch.Size([17])\n",
            "393 torch.Size([17, 50]) torch.Size([17])\n",
            "394 torch.Size([17, 50]) torch.Size([17])\n",
            "395 torch.Size([17, 50]) torch.Size([17])\n",
            "396 torch.Size([17, 50]) torch.Size([17])\n",
            "397 torch.Size([17, 50]) torch.Size([17])\n",
            "398 torch.Size([17, 50]) torch.Size([17])\n",
            "399 torch.Size([17, 50]) torch.Size([17])\n",
            "400 torch.Size([17, 50]) torch.Size([17])\n",
            "401 torch.Size([17, 50]) torch.Size([17])\n",
            "402 torch.Size([17, 50]) torch.Size([17])\n",
            "403 torch.Size([17, 50]) torch.Size([17])\n",
            "404 torch.Size([17, 50]) torch.Size([17])\n",
            "405 torch.Size([17, 50]) torch.Size([17])\n",
            "406 torch.Size([17, 50]) torch.Size([17])\n",
            "407 torch.Size([17, 50]) torch.Size([17])\n",
            "408 torch.Size([17, 50]) torch.Size([17])\n",
            "409 torch.Size([17, 50]) torch.Size([17])\n",
            "410 torch.Size([17, 50]) torch.Size([17])\n",
            "411 torch.Size([17, 50]) torch.Size([17])\n",
            "412 torch.Size([17, 50]) torch.Size([17])\n",
            "413 torch.Size([17, 50]) torch.Size([17])\n",
            "414 torch.Size([17, 50]) torch.Size([17])\n",
            "415 torch.Size([17, 50]) torch.Size([17])\n",
            "416 torch.Size([17, 50]) torch.Size([17])\n",
            "417 torch.Size([17, 50]) torch.Size([17])\n",
            "418 torch.Size([17, 50]) torch.Size([17])\n",
            "419 torch.Size([17, 50]) torch.Size([17])\n",
            "420 torch.Size([17, 50]) torch.Size([17])\n",
            "421 torch.Size([17, 50]) torch.Size([17])\n",
            "422 torch.Size([17, 50]) torch.Size([17])\n",
            "423 torch.Size([17, 50]) torch.Size([17])\n",
            "424 torch.Size([17, 50]) torch.Size([17])\n",
            "425 torch.Size([17, 50]) torch.Size([17])\n",
            "426 torch.Size([17, 50]) torch.Size([17])\n",
            "427 torch.Size([17, 50]) torch.Size([17])\n",
            "428 torch.Size([17, 50]) torch.Size([17])\n",
            "429 torch.Size([17, 50]) torch.Size([17])\n",
            "430 torch.Size([17, 50]) torch.Size([17])\n",
            "431 torch.Size([17, 50]) torch.Size([17])\n",
            "432 torch.Size([17, 50]) torch.Size([17])\n",
            "433 torch.Size([17, 50]) torch.Size([17])\n",
            "434 torch.Size([17, 50]) torch.Size([17])\n",
            "435 torch.Size([17, 50]) torch.Size([17])\n",
            "436 torch.Size([17, 50]) torch.Size([17])\n",
            "437 torch.Size([17, 50]) torch.Size([17])\n",
            "438 torch.Size([17, 50]) torch.Size([17])\n",
            "439 torch.Size([17, 50]) torch.Size([17])\n",
            "440 torch.Size([17, 50]) torch.Size([17])\n",
            "441 torch.Size([17, 50]) torch.Size([17])\n",
            "442 torch.Size([17, 50]) torch.Size([17])\n",
            "443 torch.Size([17, 50]) torch.Size([17])\n",
            "444 torch.Size([17, 50]) torch.Size([17])\n",
            "445 torch.Size([17, 50]) torch.Size([17])\n",
            "446 torch.Size([17, 50]) torch.Size([17])\n",
            "447 torch.Size([1, 50]) torch.Size([1])\n"
          ]
        }
      ],
      "source": [
        "for i, (x, y) in enumerate(test_loader):\n",
        "  print(i, x.shape, y.shape)"
      ]
    },
    {
      "cell_type": "code",
      "execution_count": 51,
      "metadata": {
        "id": "27Oo55qtLTtv"
      },
      "outputs": [],
      "source": [
        "#let us build our RNN"
      ]
    },
    {
      "cell_type": "code",
      "execution_count": 52,
      "metadata": {
        "id": "85PLhr9bLcKD"
      },
      "outputs": [],
      "source": [
        "# Changing number of Embedding size, neurons and layers.\n",
        "\n",
        "EMBEDDING_SIZE = 200\n",
        "NEURONS = 60 #hidden\n",
        "LAYERS = 4\n",
        "NUM_CLASSES = 4"
      ]
    },
    {
      "cell_type": "code",
      "execution_count": 61,
      "metadata": {
        "id": "4SmE6OyqKHiw"
      },
      "outputs": [],
      "source": [
        "class RNN_Model_1(nn.Module):\n",
        "  def __init__(self, embed_size, hidden, layers, num_classes):\n",
        "    super().__init__()\n",
        "    self.embedding_layer = nn.Embedding(num_embeddings=len(vocab),\n",
        "                                        embedding_dim=embed_size)\n",
        "    \n",
        "    # Using GRU model.\n",
        "    self.rnn = nn.GRU(input_size=embed_size,\n",
        "                      hidden_size = hidden,\n",
        "                      num_layers = layers,\n",
        "                      batch_first = True)\n",
        "\n",
        "\n",
        "    self.fc = nn.Linear(in_features=hidden, out_features= num_classes)\n",
        "\n",
        "    # using a dropout of .95\n",
        "    self.dropout = nn.Dropout(0.95) # Adding dropout\n",
        "\n",
        "  def forward(self, x):\n",
        "    vector_embs = self.embedding_layer(x)\n",
        "    y, h = self.rnn(vector_embs)\n",
        "    return self.fc(y[:,-1])"
      ]
    },
    {
      "cell_type": "code",
      "execution_count": 62,
      "metadata": {
        "id": "QVnQqnzjOmh9"
      },
      "outputs": [],
      "source": [
        "rnn_model = RNN_Model_1(EMBEDDING_SIZE, NEURONS, LAYERS, NUM_CLASSES)"
      ]
    },
    {
      "cell_type": "code",
      "execution_count": 63,
      "metadata": {
        "colab": {
          "base_uri": "https://localhost:8080/"
        },
        "id": "eoqx6jZPKHSO",
        "outputId": "7fc11ce6-dac3-4edf-c251-d02de0e39396"
      },
      "outputs": [
        {
          "data": {
            "text/plain": [
              "RNN_Model_1(\n",
              "  (embedding_layer): Embedding(95811, 200)\n",
              "  (rnn): GRU(200, 60, num_layers=4, batch_first=True)\n",
              "  (fc): Linear(in_features=60, out_features=4, bias=True)\n",
              "  (dropout): Dropout(p=0.95, inplace=False)\n",
              ")"
            ]
          },
          "execution_count": 63,
          "metadata": {},
          "output_type": "execute_result"
        }
      ],
      "source": [
        "rnn_model"
      ]
    },
    {
      "cell_type": "code",
      "execution_count": 64,
      "metadata": {
        "id": "MiNQrNyJO9Fd"
      },
      "outputs": [],
      "source": [
        "def accuracy(model, loader):\n",
        "    num_correct = 0\n",
        "    num_total = 0\n",
        "    model.eval()\n",
        "    model = model.to(device=device)\n",
        "    with torch.no_grad():\n",
        "        for x, y in loader:\n",
        "            x = x.to(device=device, dtype = torch.long)\n",
        "            y = y.to(device=device, dtype = torch.long)\n",
        "            scores = model(x)\n",
        "            _, preds = scores.max(dim=1)\n",
        "            num_correct += (preds == y).sum()\n",
        "            num_total += preds.size(0)\n",
        "        acc = float(num_correct)/num_total\n",
        "        return acc"
      ]
    },
    {
      "cell_type": "code",
      "execution_count": 65,
      "metadata": {
        "id": "HqpYk5hYO8zK"
      },
      "outputs": [],
      "source": [
        "def train(model, optimiser, epochs=100):\n",
        "  model = model.to(device=device)\n",
        "  for epoch in range(epochs):\n",
        "    for i, (x, y) in enumerate(train_loader):\n",
        "      model.train()\n",
        "      x = x.to(device=device, dtype=torch.long)\n",
        "      y = y.to(device=device, dtype=torch.long)\n",
        "      # run model\n",
        "      scores = model(x)\n",
        "      # compute cost\n",
        "      cost = F.cross_entropy(input=scores, target=y)\n",
        "      # reset gradient\n",
        "      optimiser.zero_grad()\n",
        "      # compute gradient\n",
        "      cost.backward()\n",
        "      # update parameter\n",
        "      optimiser.step()\n",
        "    acc = accuracy(model, val_loader)\n",
        "    print(f'Epoch {epoch}, costo {cost.item():.4f}, val acc {acc:.4f}')\n"
      ]
    },
    {
      "cell_type": "code",
      "execution_count": 71,
      "metadata": {
        "id": "Y_RGXqe4Jz9y"
      },
      "outputs": [],
      "source": [
        "\n",
        "# Using only 11 epochs and a learning rate of 0.0002\n",
        "epochs = 11\n",
        "lr = 0.0002\n",
        "\n",
        "rnn_model = RNN_Model_1(EMBEDDING_SIZE, NEURONS, LAYERS, NUM_CLASSES)\n",
        "optimiser = torch.optim.Adam(rnn_model.parameters(), lr=lr)"
      ]
    },
    {
      "cell_type": "code",
      "execution_count": 72,
      "metadata": {
        "colab": {
          "base_uri": "https://localhost:8080/"
        },
        "id": "uYmGSL9I_bP3",
        "outputId": "c546dcc4-dc47-43f1-f3e6-718998ab6521"
      },
      "outputs": [
        {
          "name": "stdout",
          "output_type": "stream",
          "text": [
            "Epoch 0, costo 0.0503, val acc 0.8711\n",
            "Epoch 1, costo 0.0713, val acc 0.8871\n",
            "Epoch 2, costo 0.4533, val acc 0.9032\n",
            "Epoch 3, costo 0.3846, val acc 0.9049\n",
            "Epoch 4, costo 0.0153, val acc 0.9063\n",
            "Epoch 5, costo 0.0714, val acc 0.9032\n",
            "Epoch 6, costo 0.1644, val acc 0.9042\n",
            "Epoch 7, costo 0.0478, val acc 0.9022\n",
            "Epoch 8, costo 0.0658, val acc 0.9009\n",
            "Epoch 9, costo 0.0105, val acc 0.8998\n",
            "Epoch 10, costo 0.0048, val acc 0.8994\n"
          ]
        }
      ],
      "source": [
        "train(rnn_model, optimiser, epochs)"
      ]
    },
    {
      "cell_type": "code",
      "execution_count": 73,
      "metadata": {
        "colab": {
          "base_uri": "https://localhost:8080/"
        },
        "id": "aodsTWcVSUrx",
        "outputId": "1908ae11-584c-43d1-f6e4-434a16102bc4"
      },
      "outputs": [
        {
          "name": "stdout",
          "output_type": "stream",
          "text": [
            "0.9050\n"
          ]
        }
      ],
      "source": [
        "print(f'{accuracy(rnn_model, test_loader):.4f}')"
      ]
    }
  ],
  "metadata": {
    "accelerator": "GPU",
    "colab": {
      "collapsed_sections": [],
      "provenance": []
    },
    "kernelspec": {
      "display_name": "Python 3",
      "name": "python3"
    },
    "language_info": {
      "name": "python"
    }
  },
  "nbformat": 4,
  "nbformat_minor": 0
}
