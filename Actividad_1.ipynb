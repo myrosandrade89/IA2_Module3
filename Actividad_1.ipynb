{
 "cells": [
  {
   "cell_type": "markdown",
   "metadata": {},
   "source": [
    "## Integrantes del equipo\n",
    "\n",
    "- Myroslava Sánchez Andrade A01730712\n",
    "- José Antonio Bobadilla García A01734433\n",
    "- Karen Rugerio Armenta A01733228\n",
    "- Alejandro Castro Reus A01731065\n",
    "\n"
   ]
  },
  {
   "cell_type": "code",
   "execution_count": 2,
   "metadata": {},
   "outputs": [
    {
     "name": "stderr",
     "output_type": "stream",
     "text": [
      "<ipython-input-2-f9c36e263be0>:3: DeprecationWarning: Call to deprecated `glove2word2vec` (KeyedVectors.load_word2vec_format(.., binary=False, no_header=True) loads GLoVE text vectors.).\n",
      "  glove2word2vec(glove_file, word2vec_glove_file)\n"
     ]
    },
    {
     "data": {
      "text/plain": [
       "(400000, 100)"
      ]
     },
     "execution_count": 2,
     "metadata": {},
     "output_type": "execute_result"
    }
   ],
   "source": [
    "glove_file = datapath(\"/home/reus/Desktop/IA/Modulo-3-IAA/glove.6B.100d.txt\")\n",
    "word2vec_glove_file = get_tmpfile(\"glove.6B.100d.word2vec.txt\")\n",
    "glove2word2vec(glove_file, word2vec_glove_file)"
   ]
  },
  {
   "cell_type": "code",
   "execution_count": 3,
   "metadata": {},
   "outputs": [],
   "source": [
    "model = KeyedVectors.load_word2vec_format(word2vec_glove_file)"
   ]
  },
  {
   "cell_type": "code",
   "execution_count": 4,
   "metadata": {},
   "outputs": [],
   "source": [
    "def print_sim_distance(w1, w2):\n",
    "\tw1_vector, w2_vector = model.get_vector(w1), model.get_vector(w2)\n",
    "\tw1_norm = w1_vector / np.linalg.norm(w1_vector)\n",
    "\tw2_norm = w2_vector / np.linalg.norm(w2_vector)\n",
    "\tdist = np.dot(w1_norm, w2_norm)\n",
    "\tprint(f\"{w1} is {dist:5f} similar to {w2}. {w1} is {(1 - dist):.5f} from {w2}\")\n",
    "\t"
   ]
  },
  {
   "cell_type": "code",
   "execution_count": 5,
   "metadata": {},
   "outputs": [],
   "source": [
    "def print_analogy(w1, w2, y1, debug=False):\n",
    "\tanalogy = model.most_similar(model[y1] - model[w1] + model[w2])\n",
    "\tif debug:\n",
    "\t\tfor word in analogy:\n",
    "\t\t\tprint(f\"{w1} is to {w2} as {y1} is to {word}\")\n",
    "\telse:\t\n",
    "\t\tprint(f\"{w1} is to {w2} as {y1} is to {analogy[0][0]}\")"
   ]
  },
  {
   "cell_type": "code",
   "execution_count": 6,
   "metadata": {},
   "outputs": [],
   "source": [
    "def display_wordmap(model, words=None, sample=100):\n",
    "\tif words is None:\n",
    "\t\twords = random.sample(model.index_to_key, sample)\n",
    "\tvectors = []\t\n",
    "\tfor word in words:\n",
    "\t\tvectors.append(model[word])\n",
    "\tpca = PCA(n_components=2)\n",
    "\tpca.fit(vectors)\n",
    "\tvectors = pca.transform(vectors)\n",
    "\tx, y = [elem[0] for elem in vectors], [elem[1] for elem in vectors]\n",
    "\tfig, ax = plt.subplots()\n",
    "\tax.scatter(x, y)\n",
    "\tfor i, txt in enumerate(words):\n",
    "\t\tax.annotate(txt, (x[i], y[i]))\n",
    "\t"
   ]
  },
  {
   "cell_type": "code",
   "execution_count": 7,
   "metadata": {},
   "outputs": [
    {
     "name": "stdout",
     "output_type": "stream",
     "text": [
      "in is 0.724095 similar to out. in is 0.27590 from out\n"
     ]
    }
   ],
   "source": [
    "print_sim_distance(\"in\", \"out\")"
   ]
  },
  {
   "cell_type": "code",
   "execution_count": 12,
   "metadata": {},
   "outputs": [
    {
     "name": "stdout",
     "output_type": "stream",
     "text": [
      "king is to man as queen is to ('woman', 0.8039792776107788)\n",
      "king is to man as queen is to ('man', 0.7791377305984497)\n",
      "king is to man as queen is to ('girl', 0.7349346280097961)\n",
      "king is to man as queen is to ('she', 0.6817952394485474)\n",
      "king is to man as queen is to ('her', 0.6592202186584473)\n",
      "king is to man as queen is to ('mother', 0.6541988253593445)\n",
      "king is to man as queen is to ('boy', 0.6447302103042603)\n",
      "king is to man as queen is to ('teenager', 0.6348669528961182)\n",
      "king is to man as queen is to ('herself', 0.6279712319374084)\n",
      "king is to man as queen is to ('blond', 0.6141574382781982)\n"
     ]
    }
   ],
   "source": [
    "print_analogy(\"king\", \"man\", \"queen\", True)"
   ]
  },
  {
   "cell_type": "code",
   "execution_count": 14,
   "metadata": {},
   "outputs": [
    {
     "data": {
      "image/png": "[encoded data removed]",
      "text/plain": [
       "<Figure size 432x288 with 1 Axes>"
      ]
     },
     "metadata": {},
     "output_type": "display_data"
    }
   ],
   "source": [
    "display_wordmap(model=model, words=[\"king\", \"son\", \"man\", \"daughter\", \"queen\", \"kingdom\"], sample=12)"
   ]
  },
  {
   "cell_type": "code",
   "execution_count": 1,
   "metadata": {},
   "outputs": [
    {
     "name": "stderr",
     "output_type": "stream",
     "text": [
      "/home/reus/.local/lib/python3.8/site-packages/scipy/__init__.py:138: UserWarning: A NumPy version >=1.16.5 and <1.23.0 is required for this version of SciPy (detected version 1.23.4)\n",
      "  warnings.warn(f\"A NumPy version >={np_minversion} and <{np_maxversion} is required for this version of \"\n"
     ]
    }
   ],
   "source": [
    "import numpy as np\n",
    "from gensim.test.utils import datapath, get_tmpfile\n",
    "from gensim.models import KeyedVectors\n",
    "from gensim.scripts.glove2word2vec import glove2word2vec\n",
    "import matplotlib.pyplot as plt\n",
    "plt.style.use(\"ggplot\")\n",
    "from sklearn.decomposition import PCA\n",
    "import random"
   ]
  }
 ],
 "metadata": {
  "kernelspec": {
   "display_name": "Python 3.8.10 64-bit",
   "language": "python",
   "name": "python3"
  },
  "language_info": {
   "codemirror_mode": {
    "name": "ipython",
    "version": 3
   },
   "file_extension": ".py",
   "mimetype": "text/x-python",
   "name": "python",
   "nbconvert_exporter": "python",
   "pygments_lexer": "ipython3",
   "version": "3.8.10"
  },
  "orig_nbformat": 4,
  "vscode": {
   "interpreter": {
    "hash": "916dbcbb3f70747c44a77c7bcd40155683ae19c65e1c03b4aa3499c5328201f1"
   }
  }
 },
 "nbformat": 4,
 "nbformat_minor": 2
}
